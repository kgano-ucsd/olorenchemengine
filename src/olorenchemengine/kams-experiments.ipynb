{
 "cells": [
  {
   "cell_type": "code",
   "execution_count": 1,
   "metadata": {},
   "outputs": [],
   "source": [
    "from olorenchemengine.visualizations import *\n",
    "from olorenchemengine import *\n",
    "import olorenchemengine as oce"
   ]
  },
  {
   "cell_type": "code",
   "execution_count": 6,
   "metadata": {},
   "outputs": [
    {
     "ename": "AttributeError",
     "evalue": "'function' object has no attribute 'to_csv'",
     "output_type": "error",
     "traceback": [
      "\u001b[0;31m---------------------------------------------------------------------------\u001b[0m",
      "\u001b[0;31mAttributeError\u001b[0m                            Traceback (most recent call last)",
      "\u001b[1;32m/Users/kameron/Documents/GitHub/olorenchemengine/src/olorenchemengine/kams-experiments.ipynb Cell 2\u001b[0m in \u001b[0;36m<cell line: 2>\u001b[0;34m()\u001b[0m\n\u001b[1;32m      <a href='vscode-notebook-cell:/Users/kameron/Documents/GitHub/olorenchemengine/src/olorenchemengine/kams-experiments.ipynb#W1sZmlsZQ%3D%3D?line=0'>1</a>\u001b[0m df \u001b[39m=\u001b[39m oce\u001b[39m.\u001b[39mExampleDataset\n\u001b[0;32m----> <a href='vscode-notebook-cell:/Users/kameron/Documents/GitHub/olorenchemengine/src/olorenchemengine/kams-experiments.ipynb#W1sZmlsZQ%3D%3D?line=1'>2</a>\u001b[0m test_dataset \u001b[39m=\u001b[39m oce\u001b[39m.\u001b[39mBaseDataset(name\u001b[39m=\u001b[39m\u001b[39m'\u001b[39m\u001b[39mpurple\u001b[39m\u001b[39m'\u001b[39m, data\u001b[39m=\u001b[39mdf\u001b[39m.\u001b[39;49mto_csv(), structure_col\u001b[39m=\u001b[39m\u001b[39m'\u001b[39m\u001b[39mSmiles\u001b[39m\u001b[39m'\u001b[39m, property_col\u001b[39m=\u001b[39m\u001b[39m'\u001b[39m\u001b[39mpChEMBL Value\u001b[39m\u001b[39m'\u001b[39m)\n",
      "\u001b[0;31mAttributeError\u001b[0m: 'function' object has no attribute 'to_csv'"
     ]
    }
   ],
   "source": [
    "df = oce.ExampleDataset\n",
    "test_dataset = oce.BaseDataset(name='purple', data=df.to_csv(), structure_col='Smiles', property_col='pChEMBL Value')"
   ]
  },
  {
   "cell_type": "code",
   "execution_count": null,
   "metadata": {},
   "outputs": [
    {
     "name": "stderr",
     "output_type": "stream",
     "text": [
      "GPU available: False, used: False\n",
      "TPU available: False, using: 0 TPU cores\n",
      "IPU available: False, using: 0 IPUs\n",
      "GPU available: False, used: False\n",
      "TPU available: False, using: 0 TPU cores\n",
      "IPU available: False, using: 0 IPUs\n"
     ]
    },
    {
     "ename": "TypeError",
     "evalue": "'function' object is not subscriptable",
     "output_type": "error",
     "traceback": [
      "\u001b[0;31m---------------------------------------------------------------------------\u001b[0m",
      "\u001b[0;31mTypeError\u001b[0m                                 Traceback (most recent call last)",
      "\u001b[1;32m/Users/kameron/Documents/GitHub/olorenchemengine/src/olorenchemengine/kams-experiments.ipynb Cell 3\u001b[0m in \u001b[0;36m<cell line: 6>\u001b[0;34m()\u001b[0m\n\u001b[1;32m      <a href='vscode-notebook-cell:/Users/kameron/Documents/GitHub/olorenchemengine/src/olorenchemengine/kams-experiments.ipynb#W2sZmlsZQ%3D%3D?line=0'>1</a>\u001b[0m model \u001b[39m=\u001b[39m oce\u001b[39m.\u001b[39mBaseBoosting([\n\u001b[1;32m      <a href='vscode-notebook-cell:/Users/kameron/Documents/GitHub/olorenchemengine/src/olorenchemengine/kams-experiments.ipynb#W2sZmlsZQ%3D%3D?line=1'>2</a>\u001b[0m                 oce\u001b[39m.\u001b[39mRandomForestModel(oce\u001b[39m.\u001b[39mDescriptastorusDescriptor(\u001b[39m\"\u001b[39m\u001b[39mrdkit2dnormalized\u001b[39m\u001b[39m\"\u001b[39m),n_estimators\u001b[39m=\u001b[39m\u001b[39m1000\u001b[39m),\n\u001b[1;32m      <a href='vscode-notebook-cell:/Users/kameron/Documents/GitHub/olorenchemengine/src/olorenchemengine/kams-experiments.ipynb#W2sZmlsZQ%3D%3D?line=2'>3</a>\u001b[0m                 oce\u001b[39m.\u001b[39mBaseTorchGeometricModel(oce\u001b[39m.\u001b[39mTLFromCheckpoint(\u001b[39m\"\u001b[39m\u001b[39mdefault\u001b[39m\u001b[39m\"\u001b[39m), preinitialized\u001b[39m=\u001b[39m\u001b[39mTrue\u001b[39;00m),\n\u001b[1;32m      <a href='vscode-notebook-cell:/Users/kameron/Documents/GitHub/olorenchemengine/src/olorenchemengine/kams-experiments.ipynb#W2sZmlsZQ%3D%3D?line=3'>4</a>\u001b[0m                 oce\u001b[39m.\u001b[39mRandomForestModel(oce\u001b[39m.\u001b[39mOlorenCheckpoint(\u001b[39m\"\u001b[39m\u001b[39mdefault\u001b[39m\u001b[39m\"\u001b[39m),n_estimators\u001b[39m=\u001b[39m\u001b[39m1000\u001b[39m)])\n\u001b[1;32m      <a href='vscode-notebook-cell:/Users/kameron/Documents/GitHub/olorenchemengine/src/olorenchemengine/kams-experiments.ipynb#W2sZmlsZQ%3D%3D?line=4'>5</a>\u001b[0m \u001b[39m## Training the model\u001b[39;00m\n\u001b[0;32m----> <a href='vscode-notebook-cell:/Users/kameron/Documents/GitHub/olorenchemengine/src/olorenchemengine/kams-experiments.ipynb#W2sZmlsZQ%3D%3D?line=5'>6</a>\u001b[0m model\u001b[39m.\u001b[39mfit(df[\u001b[39m\"\u001b[39;49m\u001b[39mSmiles\u001b[39;49m\u001b[39m\"\u001b[39;49m], df[\u001b[39m\"\u001b[39m\u001b[39mpChEMBL Value\u001b[39m\u001b[39m\"\u001b[39m])\n\u001b[1;32m      <a href='vscode-notebook-cell:/Users/kameron/Documents/GitHub/olorenchemengine/src/olorenchemengine/kams-experiments.ipynb#W2sZmlsZQ%3D%3D?line=7'>8</a>\u001b[0m \u001b[39m## Predicting property of new compounds\u001b[39;00m\n\u001b[1;32m      <a href='vscode-notebook-cell:/Users/kameron/Documents/GitHub/olorenchemengine/src/olorenchemengine/kams-experiments.ipynb#W2sZmlsZQ%3D%3D?line=8'>9</a>\u001b[0m y_pred \u001b[39m=\u001b[39m model\u001b[39m.\u001b[39mpredict(\u001b[39m\"\u001b[39m\u001b[39mCC(=O)OC1=CC=CC=C1C(=O)O\u001b[39m\u001b[39m\"\u001b[39m)\n",
      "\u001b[0;31mTypeError\u001b[0m: 'function' object is not subscriptable"
     ]
    }
   ],
   "source": [
    "model = oce.BaseBoosting([\n",
    "                oce.RandomForestModel(oce.DescriptastorusDescriptor(\"rdkit2dnormalized\"),n_estimators=1000),\n",
    "                oce.BaseTorchGeometricModel(oce.TLFromCheckpoint(\"default\"), preinitialized=True),\n",
    "                oce.RandomForestModel(oce.OlorenCheckpoint(\"default\"),n_estimators=1000)])\n",
    "\n",
    "## Training the model\n",
    "model.fit(df[\"Smiles\"], df[\"pChEMBL Value\"])\n",
    "\n",
    "## Predicting property of new compounds\n",
    "y_pred = model.predict([\"CC(=O)OC1=CC=CC=C1C(=O)O\"])\n",
    "\n",
    "## Saving the model\n",
    "oce.save(model, \"model.oce\")\n",
    "\n",
    "## Loading the model\n",
    "loaded_model = oce.load(\"model.oce\")"
   ]
  },
  {
   "cell_type": "code",
   "execution_count": null,
   "metadata": {},
   "outputs": [],
   "source": []
  }
 ],
 "metadata": {
  "kernelspec": {
   "display_name": "Python 3.9.12 ('base')",
   "language": "python",
   "name": "python3"
  },
  "language_info": {
   "codemirror_mode": {
    "name": "ipython",
    "version": 3
   },
   "file_extension": ".py",
   "mimetype": "text/x-python",
   "name": "python",
   "nbconvert_exporter": "python",
   "pygments_lexer": "ipython3",
   "version": "3.9.12"
  },
  "orig_nbformat": 4,
  "vscode": {
   "interpreter": {
    "hash": "25ee3fba9ff944d4a3f98f8cd757acf5f3b8b6b4f2be0994130a0f18e3fdc9ee"
   }
  }
 },
 "nbformat": 4,
 "nbformat_minor": 2
}
