{
 "cells": [
  {
   "cell_type": "code",
   "execution_count": 1,
   "metadata": {},
   "outputs": [
    {
     "name": "stderr",
     "output_type": "stream",
     "text": [
      "/Users/kamerongano/miniforge3/envs/oce/lib/python3.8/site-packages/tqdm/auto.py:22: TqdmWarning: IProgress not found. Please update jupyter and ipywidgets. See https://ipywidgets.readthedocs.io/en/stable/user_install.html\n",
      "  from .autonotebook import tqdm as notebook_tqdm\n"
     ]
    }
   ],
   "source": [
    "import olorenchemengine as oce"
   ]
  },
  {
   "cell_type": "code",
   "execution_count": 3,
   "metadata": {},
   "outputs": [
    {
     "name": "stdout",
     "output_type": "stream",
     "text": [
      "[-0.02050146 -0.00973421 -0.00972953] [0.0396335  0.05336569 0.07411337]\n",
      "{'33': '[CH3]', '875': '[cH](:[c]):[c]', '258': '[O](-[c])-[C]', '67': '[C@H](-[CH]=[C])(-[c](:[c]):[c])-[C@H](-[C])-[CH2]', '730': '[c](:[cH])(:[cH])-[CH2]', '219': '[CH2](-[c])-[CH2]'}\n"
     ]
    },
    {
     "data": {
      "text/html": [
       "\n",
       "        <iframe\n",
       "            width=\"800\"\n",
       "            height=\"600\"\n",
       "            src=\"data:text/html,%0A%20%20%20%20%20%20%20%20%3C%21DOCTYPE%20html%3E%0A%20%20%20%20%20%20%20%20%3Chead%3E%0A%20%20%20%20%20%20%20%20%3Cmeta%20charset%3D%22utf-8%22%3E%0A%20%20%20%20%20%20%20%20%3C%2Fhead%3E%0A%0A%20%20%20%20%20%20%20%20%3Chtml%20style%3D%22height%3A%20100%25%3B%22%3E%0A%0A%20%20%20%20%20%20%20%20%3C%21--%20Load%20packages%20--%3E%0A%20%20%20%20%20%20%20%20%3Cscript%20src%3D%22https%3A%2F%2Fcdn.plot.ly%2Fplotly-2.12.1.min.js%22%3E%3C%2Fscript%3E%3Cscript%20src%3D%22https%3A%2F%2Funpkg.com%2F%40rdkit%2Frdkit%2Fdist%2FRDKit_minimal.js%22%3E%3C%2Fscript%3E%3Cscript%20src%3D%22https%3A%2F%2Funpkg.com%2Fsmiles-drawer%401.0.10%2Fdist%2Fsmiles-drawer.min.js%22%3E%3C%2Fscript%3E%0A%0A%20%20%20%20%20%20%20%20%3Cbody%20id%3D%22start%22%20style%3D%22background-color%3A%23FFFFFF%3B%20height%3A%20100%25%3B%20width%3A%20100%25%3B%20display%3A%20flex%3B%20flex-direction%3A%20row%3B%20%22%3E%0A%20%20%20%20%20%20%20%20%3C%21--%20Create%20a%20div%20where%20the%20graph%20will%20take%20place%20--%3E%0A%20%20%20%20%20%20%20%20%3Cdiv%20id%3D%22basevis-entry%22%20data-visdata%3D%22%7B%26quot%3Boriginal_molecule%26quot%3B%3A%20%26quot%3BCCCCCc1cc%28c2c%28c1%29OC%28%5BC%40H%5D3%5BC%40H%5D2C%3DC%28CC3%29C%29%28C%29C%29O%26quot%3B%2C%20%26quot%3Boriginal_prediction%26quot%3B%3A%20-0.40553949313036697%2C%20%26quot%3Bcompound_id%26quot%3B%3A%20%5B%26quot%3BThe%20compound%26quot%3B%5D%2C%20%26quot%3Bmaxbits%26quot%3B%3A%20%5B67%2C%20730%2C%20219%5D%2C%20%26quot%3Bminbits%26quot%3B%3A%20%5B33%2C%20875%2C%20258%5D%2C%20%26quot%3Bmaxeffect%26quot%3B%3A%20%5B0.03963350010961675%2C%200.05336568912327522%2C%200.07411336668383328%5D%2C%20%26quot%3Bmineffect%26quot%3B%3A%20%5B-0.02050146467367231%2C%20-0.00973421482988901%2C%20-0.009729534336996637%5D%2C%20%26quot%3Bsubstructures%26quot%3B%3A%20%7B%26quot%3B33%26quot%3B%3A%20%26quot%3B%5BCH3%5D%26quot%3B%2C%20%26quot%3B875%26quot%3B%3A%20%26quot%3B%5BcH%5D%28%3A%5Bc%5D%29%3A%5Bc%5D%26quot%3B%2C%20%26quot%3B258%26quot%3B%3A%20%26quot%3B%5BO%5D%28-%5Bc%5D%29-%5BC%5D%26quot%3B%2C%20%26quot%3B67%26quot%3B%3A%20%26quot%3B%5BC%40H%5D%28-%5BCH%5D%3D%5BC%5D%29%28-%5Bc%5D%28%3A%5Bc%5D%29%3A%5Bc%5D%29-%5BC%40H%5D%28-%5BC%5D%29-%5BCH2%5D%26quot%3B%2C%20%26quot%3B730%26quot%3B%3A%20%26quot%3B%5Bc%5D%28%3A%5BcH%5D%29%28%3A%5BcH%5D%29-%5BCH2%5D%26quot%3B%2C%20%26quot%3B219%26quot%3B%3A%20%26quot%3B%5BCH2%5D%28-%5Bc%5D%29-%5BCH2%5D%26quot%3B%7D%2C%20%26quot%3Bproperty%26quot%3B%3A%20%26quot%3BpIC50%26quot%3B%7D%22%20style%3D%22width%3A65%25%3B%20height%3A100%25%22%3E%3C%2Fdiv%3E%0A%20%20%20%20%20%20%20%20%3Cdiv%20id%3D%22basevis-molecule%22%20style%3D%22width%3A%2035%25%3B%20height%3A%20100%25%3B%22%3E%3C%2Fdiv%3E%0A%20%20%20%20%20%20%20%20%3C%2Fbody%3E%0A%20%20%20%20%20%20%20%20%3C%2Fmeta%3E%0A%20%20%20%20%20%20%20%20%3Cscript%3E%0A%20%20%20%20%20%20%20%20Plotly.newPlot%28%27basevis-entry%27%2C%20plot_data%2C%20layout%29%3B%3C%2Fscript%3E%3Cscript%3E%20window.addEventListener%28%22resize%22%2C%20function%28%29%0A%20%20%20%20%20%20%20%20%7Bif%20%28document.getElementById%28%22basevis-entry%22%29%29%20%7BPlotly.Plots.resize%28document.getElementById%28%22basevis-entry%22%29%29%3B%7D%3B%7D%29%20%3C%2Fscript%3E%0A%20%20%20%20%20%20%20%20%3Cscript%3E%2F%2F%20set%20the%20dimensions%20and%20margins%20of%20the%20graph%0A%0Aconst%20data%20%3D%20JSON.parse%28document.getElementById%28%27basevis-entry%27%29.dataset.visdata%29%3B%0Avar%20plot%20%3D%20document.getElementById%28%27basevis-entry%27%29%3B%0Alet%20substructures%20%3D%20data.substructures%3B%0A%0Avar%20property%20%3D%20data.property%3B%0Avar%20original_pred%20%3D%20data.original_prediction%3B%0Avar%20compound_id%20%3D%20data.compound_id%3B%0A%0A%0A%0A%20%20%20%20%0A%0Alet%20mol%3B%0Alet%20isInitialized%20%3D%20false%3B%0Alet%20original_svg%3B%0AinitRDKitModule%28%29.then%28function%20%28instance%29%20%7B%7B%0A%20%20%20%20isInitialized%20%3D%20true%3B%0A%20%20%20%20RDKitModule%20%3D%20instance%3B%0A%20%20%20%20console.log%28%22version%3A%20%22%20%2B%20RDKitModule.version%28%29%29%3B%0A%0A%20%20%20%20%20%20%20%20var%20smiles%20%3D%20data.original_molecule%3B%0A%20%20%20%20%20%20%20%20mol%20%3D%20RDKitModule.get_mol%28smiles%29%3B%0A%20%20%20%20%20%20%20%20var%20dest%20%3D%20document.getElementById%28%22basevis-molecule%22%29%3B%0A%20%20%20%20%20%20%20%20var%20svg%20%3D%20mol.get_svg%28%29%3B%0A%20%20%20%20%20%20%20%20svg%20%3D%20svg.replace%28%22width%3D%27250px%27%20height%3D%27200px%27%22%2C%20%22width%3D%27100%25%27%20height%3D%27auto%27%22%29%3B%0A%20%20%20%20%20%20%20%20original_svg%20%3D%20svg%3B%0A%20%20%20%20%20%20%20%20dest.innerHTML%20%3D%20%22%3Cdiv%20id%3D%27drawing%27%20style%3D%27height%3A%20100%25%3B%20display%3A%20flex%3B%20flex-direction%3A%20column%3B%20align-items%3A%20center%3B%27%20%3E%22%20%2B%20svg%20%2B%20%22%3C%2Fdiv%3E%22%3B%0A%0A%0A%20%20%20%20%7D%7D%29%3B%0A%0A%0Avar%20margin%20%3D%20%7B%20top%3A%2010%2C%20right%3A%2030%2C%20bottom%3A%2030%2C%20left%3A%2060%20%7D%2C%0A%20%20width%20%3D%20460%20-%20margin.left%20-%20margin.right%2C%0A%20%20height%20%3D%20400%20-%20margin.top%20-%20margin.bottom%3B%0A%0A%0Avar%20trace1%20%3D%20%7B%0A%20%20%20%20x%3A%20data.maxbits.map%28%28x%2C%20i%29%20%3D%3E%20data.maxeffect%5Bi%5D%20%3F%20%22Bit%20%22%20%2B%20x%3A%20%22%22%29%2C%0A%20%20%20%20y%3A%20data.maxeffect%2C%0A%20%20%20%20txt%3A%20data.minbits%2C%0A%20%20%20%20name%3A%20%22Max%20Effect%20on%20%22%20%2B%20data.property%2C%0A%20%20%20%20marker%3A%20%7Bcolor%3A%20%22%231D62E7%22%7D%2C%0A%20%20%20%20type%3A%20%27bar%27%2C%0A%7D%3B%0A%0Avar%20trace2%20%3D%20%7B%0A%20%20%20%20x%3A%20data.minbits.map%28%28x%2C%20i%29%20%3D%3E%20data.mineffect%5Bi%5D%20%21%3D%20undefined%20%3F%20%22Bit%20%22%20%2B%20x%3A%20undefined%29%2C%0A%20%20%20%20name%3A%20%22Min%20Effect%20on%20%22%20%2B%20data.property%2C%0A%20%20%20%20y%3A%20data.mineffect%2C%0A%20%20%20%20txt%3A%20data.minbits%2C%0A%20%20%20%20marker%3A%20%7Bcolor%3A%20%22%236943D8%22%7D%2C%0A%20%20%20%20type%3A%20%27bar%27%2C%0A%7D%3B%0A%0Avar%20plot_data%20%3D%20%5Btrace1%2C%20trace2%5D%3B%0A%0Avar%20layout%20%3D%20%7B%0A%20%20hovermode%3A%22closest%22%2C%0A%20%20title%3A%20%22Effect%20of%20Morgan%20Bits%20on%20%22%20%2B%20data.property%20%2B%20%0A%20%20%22%3Cbr%3E%3Csub%3E%22%20%2B%20%22Original%20Predicted%20%22%20%2B%20data.property%20%2B%20%22%20for%20%22%20%2B%20data.compound_id%20%2B%20%22%3A%20%22%20%2B%20data.original_prediction.toFixed%283%29%20%2B%20%22%3C%2Fsub%3E%22%2C%0A%20%20xaxis%3A%20%7B%0A%20%20%20%20title%3A%20%27Bits%27%2C%0A%20%20%20%20titlefont%3A%20%7B%0A%20%20%20%20%20%20%20%20family%3A%20%27Cabin%2C%20sans-serif%27%2C%0A%20%20%20%20%20%20%20%20size%3A%2018%2C%0A%20%20%20%20%20%20%20%20color%3A%20%27%237f7f7f%27%0A%20%20%20%20%7D%0A%7D%2C%0Ayaxis%3A%20%7B%0A%20%20%20%20title%3A%20%27Effect%20on%20%27%20%2B%20data.property%2C%0A%20%20%20%20titlefont%3A%20%7B%0A%20%20%20%20%20%20%20%20family%3A%20%27Cabin%2C%20sans-serif%27%2C%0A%20%20%20%20%20%20%20%20size%3A%2018%2C%0A%20%20%20%20%20%20%20%20color%3A%20%27%237f7f7f%27%0A%20%20%20%20%7D%0A%7D%2C%0A%0A%20%20%20%20%20%20%20%20%0A%7D%3B%0A%0Alet%20smilesDrawer%20%3D%20new%20SmilesDrawer.Drawer%28%7B%20width%3A%20250%2C%20height%3A%20250%2C%20padding%3A%2015%20%7D%29%3B%0A%0APlotly.newPlot%28%27basevis-entry%27%2C%20plot_data%2C%20layout%29%3B%0A%0Alet%20substructure_svg%20%3D%20%7B%7D%0Aplot%0A%20%20%20.on%28%27plotly_hover%27%2C%20function%28data%29%20%7B%0A%20%20%20%20var%20bit%20%3D%20data.points.map%28function%28d%29%7B%0A%20%20%20%20%20%20%20%20%0A%20%20%20%20%20%20%20%20return%20%28d.x.split%28%22%20%22%29%5B1%5D%29%3B%0A%20%20%20%20%7D%29%3B%0A%0A%20%20%20%20var%20y%20%3D%20data.points.map%28function%28d%29%7B%0A%20%20%20%20%20%20%20%20return%20%28d.y%29%3B%0A%20%20%20%20%7D%29%3B%0A%0A%20%20%20%20var%20change%20%3D%20%28original_pred%20-%20y%29.toFixed%283%29%3B%0A%3B%0A%0A%20%20%20%20%20%20%20%20if%20%28substructure_svg%5Bbit%5D%20%3D%3D%20undefined%29%20%7B%0A%20%20%20%20%20%20%20%20%20%20%20%20%0A%20%20%20%20%20%20%20%20%20%20%20%20var%20smarts%20%3D%20substructures%5Bbit%5D%3B%0A%20%20%20%20%20%20%20%20%20%20%20%20var%20qmol%20%3D%20RDKitModule.get_qmol%28smarts%29%3B%0A%20%20%20%20%20%20%20%20%20%20%20%20var%20mdetails%20%3D%20mol.get_substruct_match%28qmol%29%3B%0A%20%20%20%20%20%20%20%20%20%20%20%20%0A%20%20%20%20%20%20%20%20%20%20%20%20var%20svg%20%3D%20mol.get_svg_with_highlights%28mdetails%29%3B%0A%20%20%20%20%20%20%20%20%20%20%20%20svg%20%3D%20svg.replace%28%22width%3D%27250px%27%20height%3D%27200px%27%22%2C%20%22width%3D%27100%25%27%20height%3D%27auto%27%22%29%3B%0A%20%20%20%20%20%20%20%20%20%20%20%20%0A%20%20%20%20%20%20%20%20%20%20%20%20var%20dest%20%3D%20document.getElementById%28%22basevis-molecule%22%29%3B%0A%20%20%20%20%20%20%20%20%20%20%20%20substructure_svg%0A%20%20%20%20%20%20%20%20%20%20%20%20dest.innerHTML%20%3D%20%22%3Cdiv%20id%3D%27drawing%27%20style%3D%27height%3A%2050%25%3B%20display%3A%20flex%3B%20flex-direction%3A%20column%3B%20align-items%3A%20center%3B%27%20%3E%22%20%2B%20svg%20%2B%20%22%3C%2Fdiv%3E%22%3B%0A%20%20%20%20%20%20%20%20%20%20%20%20substructure_svg%5Bbit%5D%20%3D%20svg%3B%0A%20%20%20%20%20%20%20%20%20%20%20%20%0A%20%20%20%20%20%20%20%20%20%20%20%20%0A%20%20%20%20%20%20%20%20%20%20%20%20%0A%20%20%20%20%20%20%20%20%7D%0A%20%20%20%20%20%20%20%20else%20%7B%0A%20%20%20%20%20%20%20%20%20%20%20%20var%20dest%20%3D%20document.getElementById%28%22basevis-molecule%22%29%3B%0A%20%20%20%20%20%20%20%20%20%20%20%20dest.innerHTML%20%3D%20%22%3Cdiv%20id%3D%27drawing%27%20style%3D%27height%3A%2050%25%3B%20display%3A%20flex%3B%20flex-direction%3A%20column%3B%20align-items%3A%20center%3B%27%20%3E%22%20%2B%20substructure_svg%5Bbit%5D%20%2B%20%22%3C%2Fdiv%3E%22%3B%0A%0A%20%20%20%20%20%20%20%20%7D%0A%0A%20%20%20%20%20%20%20%20var%20closeUp%20%3D%20document.createElement%28%22canvas%22%29%3B%0A%20%20%20%20%20%20%20%20closeUp.setAttribute%28%22id%22%2C%20%22closeUp%22%29%3B%0A%20%20%20%20%20%20%20%20document.getElementById%28%22basevis-molecule%22%29.appendChild%28closeUp%29%3B%0A%20%20%20%20%20%20%20%20var%20sub_smiles%20%3D%20substructures%5Bbit%5D%3B%0A%0A%20%20%20%20%20%20%20%20SmilesDrawer.parse%28sub_smiles%2C%20function%28tree%29%20%7B%0A%20%20%20%20%20%20%20%20%20%20%20%20%2F%2F%20Draw%20to%20the%20canvas%0A%20%20%20%20%20%20%20%20%20%20%20%20smilesDrawer.draw%28tree%2C%20%22closeUp%22%2C%20%22light%22%2C%20false%29%3B%0A%20%20%20%20%20%20%20%20%20%20%7D%29%3B%0A%20%20%20%20%20%20%20%20%0A%20%20%20%20%20%20%20%0A%0A%20%20%20%20%20%20%20%20var%20update%20%3D%20%7B%0A%20%20%20%20%20%20%20%20%20%20%20%20title%3A%20%22Effect%20of%20Morgan%20Bits%20on%20%22%20%2B%20property%20%2B%20%0A%20%20%20%20%20%20%20%20%20%20%20%20%20%20%20%20%20%20%20%22%3Cbr%3E%3Csub%3E%22%20%2B%20%22Predicted%20%22%20%2B%20property%20%2B%20%22%20with%20flipped%20Bit%20%23%22%20%2B%20bit%20%2B%22%3A%20%22%20%2B%20change%20%2B%20%22%3C%2Fsub%3E%22%2C%0A%20%20%20%20%20%20%20%20%7D%3B%0A%20%20%20%20%20%20%20%20var%20graphDiv%20%3D%20document.getElementById%28%27basevis-entry%27%29%3B%0A%20%20%20%20%20%20%20%20Plotly.relayout%28graphDiv%2C%20update%29%3B%0A%0A%20%20%20%20%20%20%20%20%0A%20%20%20%20%20%20%0A%0A%20%20%20%20%7D%20%29%0A%20%20%20%20.on%28%27plotly_unhover%27%2C%20function%28data%29%20%7B%0A%0A%20%20%20%20%20%20%20%20var%20dest%20%3D%20document.getElementById%28%22basevis-molecule%22%29%3B%0A%20%20%20%20%20%20%20%20dest.innerHTML%20%3D%20%22%3Cdiv%20id%3D%27drawing%27%20style%3D%27height%3A%20100%25%3B%20display%3A%20flex%3B%20flex-direction%3A%20column%3B%20align-items%3A%20center%3B%27%20%3E%22%20%2B%20original_svg%20%2B%20%22%3C%2Fdiv%3E%22%3B%0A%0A%20%20%20%20%20%20%20%20var%20update%20%3D%20%7B%0A%20%20%20%20%20%20%20%20%20%20%20%20title%3A%20%22Effect%20of%20Morgan%20Bits%20on%20%22%20%2B%20property%20%2B%20%0A%20%20%20%20%20%20%20%20%20%20%20%20%20%20%20%20%20%20%20%22%3Cbr%3E%3Csub%3E%22%20%2B%20%22Original%20Predicted%20%22%20%2B%20property%20%2B%20%22%20for%20%22%20%2B%20compound_id%20%2B%20%22%3A%20%22%20%2B%20original_pred.toFixed%283%29%20%2B%20%22%3C%2Fsub%3E%22%2C%0A%20%20%20%20%20%20%20%20%7D%3B%0A%20%20%20%20%20%20%20%20var%20graphDiv%20%3D%20document.getElementById%28%27basevis-entry%27%29%3B%0A%20%20%20%20%20%20%20%20Plotly.relayout%28graphDiv%2C%20update%29%3B%0A%0A%20%20%20%20%7D%20%20%20%20%0A%20%20%20%20%29%3B%0A%0A%20%20%20%0A%0A%0A%0A%3C%2Fscript%3E%3Cscript%3E%20window.addEventListener%28%22resize%22%2C%20function%28%29%7Bif%20%28document.getElementById%28%22basevis-entry%22%29%29%20%7BPlotly.Plots.resize%28document.getElementById%28%22basevis-entry%22%29%29%3B%7D%3B%7D%29%20%3C%2Fscript%3E\"\n",
       "            frameborder=\"0\"\n",
       "            allowfullscreen\n",
       "            \n",
       "        ></iframe>\n",
       "        "
      ],
      "text/plain": [
       "<IPython.lib.display.IFrame at 0x2973d2160>"
      ]
     },
     "execution_count": 3,
     "metadata": {},
     "output_type": "execute_result"
    }
   ],
   "source": [
    "dataset = oce.BACEDataset()\n",
    "\n",
    "MorganVecRep = oce.MorganContributions(dataset=dataset, smiles=\"CCCCCc1cc(c2c(c1)OC([C@H]3[C@H]2C=C(CC3)C)(C)C)O\")\n",
    "\n",
    "MorganVecRep.render_ipynb()"
   ]
  },
  {
   "cell_type": "code",
   "execution_count": null,
   "metadata": {},
   "outputs": [],
   "source": []
  }
 ],
 "metadata": {
  "kernelspec": {
   "display_name": "Python 3.8.13 ('oce')",
   "language": "python",
   "name": "python3"
  },
  "language_info": {
   "codemirror_mode": {
    "name": "ipython",
    "version": 3
   },
   "file_extension": ".py",
   "mimetype": "text/x-python",
   "name": "python",
   "nbconvert_exporter": "python",
   "pygments_lexer": "ipython3",
   "version": "3.8.13"
  },
  "orig_nbformat": 4,
  "vscode": {
   "interpreter": {
    "hash": "a51bfb10a3a69346f025dac9c2b19001ebe5bb8d79531451cfe485e5eecadbc1"
   }
  }
 },
 "nbformat": 4,
 "nbformat_minor": 2
}
