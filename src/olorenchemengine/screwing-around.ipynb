{
 "cells": [
  {
   "cell_type": "code",
   "execution_count": 1,
   "metadata": {},
   "outputs": [
    {
     "name": "stderr",
     "output_type": "stream",
     "text": [
      "/Users/kamerongano/miniforge3/envs/oce/lib/python3.8/site-packages/tqdm/auto.py:22: TqdmWarning: IProgress not found. Please update jupyter and ipywidgets. See https://ipywidgets.readthedocs.io/en/stable/user_install.html\n",
      "  from .autonotebook import tqdm as notebook_tqdm\n"
     ]
    },
    {
     "name": "stdout",
     "output_type": "stream",
     "text": [
      "\n",
      "To complete installation of Oloren ChemEngine, either:\n",
      "    (1) Run oce.online() to use the demonstration package, Oloren ChemEngine Online,\n",
      "    (2) Install the missing dependencies, instructions can be found oce.MISSING_DEPENDENCIES(), or\n",
      "    (3) Email contact@oloren.ai with subject \"Oloren ChemEngine Enterprise\", for a secure privately hosted\n",
      "        Server version.\n",
      "\n",
      "Oloren ChemEngine online is the public, dependency-free version of OCE, which compiles OCE code locally for fast,\n",
      "parallelized, remote execution on Oloren's cloud solution. Oloren ChemEngine online SHOULD NOT BE USED FOR\n",
      "CONFIDENTAIL DATA, and is only intended for demonstration purposes. The securely privately hosted Server version is\n",
      "called Oloren ChemEngine Enterprise.\n",
      "\n"
     ]
    }
   ],
   "source": [
    "import olorenchemengine as oce\n"
   ]
  },
  {
   "cell_type": "code",
   "execution_count": 7,
   "metadata": {},
   "outputs": [
    {
     "name": "stdout",
     "output_type": "stream",
     "text": [
      "[-0.01509037 -0.00903478 -0.00622035] [0.05207194 0.05522776 0.05735763]\n"
     ]
    },
    {
     "data": {
      "text/plain": [
       "((0,), (19,), (20,), (21,))"
      ]
     },
     "execution_count": 7,
     "metadata": {},
     "output_type": "execute_result"
    }
   ],
   "source": [
    "from rdkit import Chem\n",
    "from rdkit.Chem.Draw import IPythonConsole\n",
    "\n",
    "dataset = oce.BACEDataset()\n",
    "# nBits can not be increased past 1024\n",
    "MorganVecRep = oce.MorganContributions(dataset=dataset, nbits=1024 ,smiles=\"CCCCCc1cc(c2c(c1)OC([C@H]3[C@H]2C=C(CC3)C)(C)C)O\")\n",
    "substructure_highlights = MorganVecRep.visualize_morganfp()\n",
    "\n",
    "substructure_highlights[33]\n",
    "\n"
   ]
  },
  {
   "cell_type": "code",
   "execution_count": null,
   "metadata": {},
   "outputs": [],
   "source": []
  }
 ],
 "metadata": {
  "kernelspec": {
   "display_name": "Python 3.8.13 ('oce')",
   "language": "python",
   "name": "python3"
  },
  "language_info": {
   "codemirror_mode": {
    "name": "ipython",
    "version": 3
   },
   "file_extension": ".py",
   "mimetype": "text/x-python",
   "name": "python",
   "nbconvert_exporter": "python",
   "pygments_lexer": "ipython3",
   "version": "3.8.13"
  },
  "orig_nbformat": 4,
  "vscode": {
   "interpreter": {
    "hash": "a51bfb10a3a69346f025dac9c2b19001ebe5bb8d79531451cfe485e5eecadbc1"
   }
  }
 },
 "nbformat": 4,
 "nbformat_minor": 2
}
