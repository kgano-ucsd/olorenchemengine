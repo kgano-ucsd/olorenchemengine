{
 "cells": [
  {
   "cell_type": "code",
   "execution_count": 1,
   "metadata": {},
   "outputs": [
    {
     "name": "stderr",
     "output_type": "stream",
     "text": [
      "/Users/kamerongano/miniforge3/envs/oce/lib/python3.8/site-packages/tqdm/auto.py:22: TqdmWarning: IProgress not found. Please update jupyter and ipywidgets. See https://ipywidgets.readthedocs.io/en/stable/user_install.html\n",
      "  from .autonotebook import tqdm as notebook_tqdm\n"
     ]
    },
    {
     "ename": "RuntimeError",
     "evalue": "No such operator torch_cluster::random_walk",
     "output_type": "error",
     "traceback": [
      "\u001b[0;31m---------------------------------------------------------------------------\u001b[0m",
      "\u001b[0;31mRuntimeError\u001b[0m                              Traceback (most recent call last)",
      "Cell \u001b[0;32mIn [1], line 1\u001b[0m\n\u001b[0;32m----> 1\u001b[0m \u001b[39mimport\u001b[39;00m \u001b[39molorenchemengine\u001b[39;00m \u001b[39mas\u001b[39;00m \u001b[39moce\u001b[39;00m\n",
      "File \u001b[0;32m~/Documents/GitHub/olorenchemengine/src/olorenchemengine/__init__.py:71\u001b[0m\n\u001b[1;32m     69\u001b[0m \u001b[39mfor\u001b[39;00m imp \u001b[39min\u001b[39;00m _OPTIONAL_IMPORTS_FOR_OCE_ONLINE:\n\u001b[1;32m     70\u001b[0m     \u001b[39mtry\u001b[39;00m:\n\u001b[0;32m---> 71\u001b[0m         \u001b[39m__import__\u001b[39;49m(imp)\n\u001b[1;32m     72\u001b[0m     \u001b[39mexcept\u001b[39;00m \u001b[39mImportError\u001b[39;00m:\n\u001b[1;32m     73\u001b[0m         \u001b[39mimport\u001b[39;00m \u001b[39msys\u001b[39;00m\n",
      "File \u001b[0;32m~/miniforge3/envs/oce/lib/python3.8/site-packages/torch_geometric/nn/__init__.py:14\u001b[0m\n\u001b[1;32m     12\u001b[0m \u001b[39mfrom\u001b[39;00m \u001b[39m.\u001b[39;00m\u001b[39munpool\u001b[39;00m \u001b[39mimport\u001b[39;00m \u001b[39m*\u001b[39m  \u001b[39m# noqa\u001b[39;00m\n\u001b[1;32m     13\u001b[0m \u001b[39mfrom\u001b[39;00m \u001b[39m.\u001b[39;00m\u001b[39mdense\u001b[39;00m \u001b[39mimport\u001b[39;00m \u001b[39m*\u001b[39m  \u001b[39m# noqa\u001b[39;00m\n\u001b[0;32m---> 14\u001b[0m \u001b[39mfrom\u001b[39;00m \u001b[39m.\u001b[39;00m\u001b[39mmodels\u001b[39;00m \u001b[39mimport\u001b[39;00m \u001b[39m*\u001b[39m  \u001b[39m# noqa\u001b[39;00m\n\u001b[1;32m     15\u001b[0m \u001b[39mfrom\u001b[39;00m \u001b[39m.\u001b[39;00m\u001b[39mfunctional\u001b[39;00m \u001b[39mimport\u001b[39;00m \u001b[39m*\u001b[39m  \u001b[39m# noqa\u001b[39;00m\n\u001b[1;32m     17\u001b[0m __all__ \u001b[39m=\u001b[39m [\n\u001b[1;32m     18\u001b[0m     \u001b[39m'\u001b[39m\u001b[39mMetaLayer\u001b[39m\u001b[39m'\u001b[39m,\n\u001b[1;32m     19\u001b[0m     \u001b[39m'\u001b[39m\u001b[39mReshape\u001b[39m\u001b[39m'\u001b[39m,\n\u001b[0;32m   (...)\u001b[0m\n\u001b[1;32m     23\u001b[0m     \u001b[39m'\u001b[39m\u001b[39mto_hetero_with_bases\u001b[39m\u001b[39m'\u001b[39m,\n\u001b[1;32m     24\u001b[0m ]\n",
      "File \u001b[0;32m~/miniforge3/envs/oce/lib/python3.8/site-packages/torch_geometric/nn/models/__init__.py:4\u001b[0m\n\u001b[1;32m      2\u001b[0m \u001b[39mfrom\u001b[39;00m \u001b[39m.\u001b[39;00m\u001b[39mbasic_gnn\u001b[39;00m \u001b[39mimport\u001b[39;00m GCN, GraphSAGE, GIN, GAT, PNA, EdgeCNN\n\u001b[1;32m      3\u001b[0m \u001b[39mfrom\u001b[39;00m \u001b[39m.\u001b[39;00m\u001b[39mjumping_knowledge\u001b[39;00m \u001b[39mimport\u001b[39;00m JumpingKnowledge\n\u001b[0;32m----> 4\u001b[0m \u001b[39mfrom\u001b[39;00m \u001b[39m.\u001b[39;00m\u001b[39mnode2vec\u001b[39;00m \u001b[39mimport\u001b[39;00m Node2Vec\n\u001b[1;32m      5\u001b[0m \u001b[39mfrom\u001b[39;00m \u001b[39m.\u001b[39;00m\u001b[39mdeep_graph_infomax\u001b[39;00m \u001b[39mimport\u001b[39;00m DeepGraphInfomax\n\u001b[1;32m      6\u001b[0m \u001b[39mfrom\u001b[39;00m \u001b[39m.\u001b[39;00m\u001b[39mautoencoder\u001b[39;00m \u001b[39mimport\u001b[39;00m InnerProductDecoder, GAE, VGAE, ARGA, ARGVA\n",
      "File \u001b[0;32m~/miniforge3/envs/oce/lib/python3.8/site-packages/torch_geometric/nn/models/node2vec.py:10\u001b[0m\n\u001b[1;32m      8\u001b[0m \u001b[39mtry\u001b[39;00m:\n\u001b[1;32m      9\u001b[0m     \u001b[39mimport\u001b[39;00m \u001b[39mtorch_cluster\u001b[39;00m  \u001b[39m# noqa\u001b[39;00m\n\u001b[0;32m---> 10\u001b[0m     random_walk \u001b[39m=\u001b[39m torch\u001b[39m.\u001b[39;49mops\u001b[39m.\u001b[39;49mtorch_cluster\u001b[39m.\u001b[39;49mrandom_walk\n\u001b[1;32m     11\u001b[0m \u001b[39mexcept\u001b[39;00m \u001b[39mImportError\u001b[39;00m:\n\u001b[1;32m     12\u001b[0m     random_walk \u001b[39m=\u001b[39m \u001b[39mNone\u001b[39;00m\n",
      "File \u001b[0;32m~/miniforge3/envs/oce/lib/python3.8/site-packages/torch/_ops.py:167\u001b[0m, in \u001b[0;36m_OpNamespace.__getattr__\u001b[0;34m(self, op_name)\u001b[0m\n\u001b[1;32m    165\u001b[0m namespace_name \u001b[39m=\u001b[39m \u001b[39mself\u001b[39m\u001b[39m.\u001b[39mname\n\u001b[1;32m    166\u001b[0m qualified_op_name \u001b[39m=\u001b[39m \u001b[39m'\u001b[39m\u001b[39m{}\u001b[39;00m\u001b[39m::\u001b[39m\u001b[39m{}\u001b[39;00m\u001b[39m'\u001b[39m\u001b[39m.\u001b[39mformat(namespace_name, op_name)\n\u001b[0;32m--> 167\u001b[0m op \u001b[39m=\u001b[39m torch\u001b[39m.\u001b[39;49m_C\u001b[39m.\u001b[39;49m_jit_get_operation(qualified_op_name)\n\u001b[1;32m    169\u001b[0m \u001b[39m# let the script frontend know that op is identical to the builtin op\u001b[39;00m\n\u001b[1;32m    170\u001b[0m \u001b[39m# with qualified_op_name\u001b[39;00m\n\u001b[1;32m    171\u001b[0m torch\u001b[39m.\u001b[39mjit\u001b[39m.\u001b[39m_builtins\u001b[39m.\u001b[39m_register_builtin(op, qualified_op_name)\n",
      "\u001b[0;31mRuntimeError\u001b[0m: No such operator torch_cluster::random_walk"
     ]
    }
   ],
   "source": [
    "import olorenchemengine as oce"
   ]
  },
  {
   "cell_type": "code",
   "execution_count": null,
   "metadata": {},
   "outputs": [],
   "source": [
    "dataset = oce.BACEDataset()\n",
    "\n",
    "MorganVecRep = oce.MorganContributions(dataset=dataset, smiles=\"CCCCCc1cc(c2c(c1)OC([C@H]3[C@H]2C=C(CC3)C)(C)C)O\")\n",
    "\n",
    "MorganVecRep.render_ipynb()"
   ]
  },
  {
   "cell_type": "code",
   "execution_count": null,
   "metadata": {},
   "outputs": [],
   "source": []
  }
 ],
 "metadata": {
  "kernelspec": {
   "display_name": "Python 3.8.13 ('oce')",
   "language": "python",
   "name": "python3"
  },
  "language_info": {
   "codemirror_mode": {
    "name": "ipython",
    "version": 3
   },
   "file_extension": ".py",
   "mimetype": "text/x-python",
   "name": "python",
   "nbconvert_exporter": "python",
   "pygments_lexer": "ipython3",
   "version": "3.8.13"
  },
  "orig_nbformat": 4,
  "vscode": {
   "interpreter": {
    "hash": "a51bfb10a3a69346f025dac9c2b19001ebe5bb8d79531451cfe485e5eecadbc1"
   }
  }
 },
 "nbformat": 4,
 "nbformat_minor": 2
}
